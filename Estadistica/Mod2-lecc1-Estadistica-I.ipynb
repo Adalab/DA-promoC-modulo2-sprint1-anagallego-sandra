{
 "cells": [
  {
   "cell_type": "code",
   "execution_count": 1,
   "metadata": {},
   "outputs": [],
   "source": [
    "import numpy as np\n",
    "import pandas as pd"
   ]
  },
  {
   "attachments": {},
   "cell_type": "markdown",
   "metadata": {},
   "source": [
    "1. Buscar un conjunto de datos a analizar:\n",
    "\n",
    "Se recomienda que el conjunto de datos a analizar tenga variables numéricas y categóricas. Ya que también se analizarán."
   ]
  },
  {
   "cell_type": "code",
   "execution_count": 30,
   "metadata": {},
   "outputs": [],
   "source": [
    "df = pd.read_csv(\"Datos/cost-of-living.csv\")"
   ]
  },
  {
   "cell_type": "code",
   "execution_count": 31,
   "metadata": {},
   "outputs": [
    {
     "data": {
      "text/plain": [
       "Index(['Unnamed: 0', 'city', 'country', 'x1', 'x2', 'x3', 'x4', 'x5', 'x6',\n",
       "       'x7', 'x8', 'x9', 'x10', 'x11', 'x12', 'x13', 'x14', 'x15', 'x16',\n",
       "       'x17', 'x18', 'x19', 'x20', 'x21', 'x22', 'x23', 'x24', 'x25', 'x26',\n",
       "       'x27', 'x28', 'x29', 'x30', 'x31', 'x32', 'x33', 'x34', 'x35', 'x36',\n",
       "       'x37', 'x38', 'x39', 'x40', 'x41', 'x42', 'x43', 'x44', 'x45', 'x46',\n",
       "       'x47', 'x48', 'x49', 'x50', 'x51', 'x52', 'x53', 'x54', 'x55',\n",
       "       'data_quality'],\n",
       "      dtype='object')"
      ]
     },
     "execution_count": 31,
     "metadata": {},
     "output_type": "execute_result"
    }
   ],
   "source": [
    "df.columns"
   ]
  },
  {
   "cell_type": "code",
   "execution_count": 32,
   "metadata": {},
   "outputs": [],
   "source": [
    "df.drop(\"Unnamed: 0\", axis=1, inplace= True)"
   ]
  },
  {
   "cell_type": "code",
   "execution_count": 33,
   "metadata": {},
   "outputs": [
    {
     "data": {
      "text/plain": [
       "Index(['city', 'country', 'x1', 'x2', 'x3', 'x4', 'x5', 'x6', 'x7', 'x8', 'x9',\n",
       "       'x10', 'x11', 'x12', 'x13', 'x14', 'x15', 'x16', 'x17', 'x18', 'x19',\n",
       "       'x20', 'x21', 'x22', 'x23', 'x24', 'x25', 'x26', 'x27', 'x28', 'x29',\n",
       "       'x30', 'x31', 'x32', 'x33', 'x34', 'x35', 'x36', 'x37', 'x38', 'x39',\n",
       "       'x40', 'x41', 'x42', 'x43', 'x44', 'x45', 'x46', 'x47', 'x48', 'x49',\n",
       "       'x50', 'x51', 'x52', 'x53', 'x54', 'x55', 'data_quality'],\n",
       "      dtype='object')"
      ]
     },
     "execution_count": 33,
     "metadata": {},
     "output_type": "execute_result"
    }
   ],
   "source": [
    "df.columns"
   ]
  },
  {
   "cell_type": "code",
   "execution_count": 34,
   "metadata": {},
   "outputs": [],
   "source": [
    "columnas_nuevas = {\"x1\":\t\"Meal\", \"x2\": \"Meal for 2 People\", \"x3\":\t\"McMeal\",\n",
    "\"x4\":\t\"Domestic Beer Rest\",\n",
    "\"x5\":\t\"Imported Beer Rest\",\n",
    "\"x6\":\t\"Cappuccino\",\n",
    "\"x7\":\t\"Coke/Pepsi\",\n",
    "\"x8\":\t\"Water Rest\",\n",
    "\"x9\":\t\"Milk\",\n",
    "\"x10\": \"Bread\",\n",
    "\"x11\":\"Rice\",\n",
    "\"x12\":\"Eggs\",\n",
    "\"x13\":\"Local Cheese\",\n",
    "\"x14\":\t\"Chicken Fillets\",\n",
    "\"x15\":\t\"Beef Round\",\n",
    "\"x16\":\t\"Apples\",\n",
    "\"x17\":\t\"Banana\",\n",
    "\"x18\":\t\"Oranges\",\n",
    "\"x19\":\t\"Tomato\",\n",
    "\"x20\":\t\"Potato\",\n",
    "\"x21\":\t\"Onion\",\n",
    "\"x22\":\t\"Lettuce\",\n",
    "\"x23\":\t\"Water\",\n",
    "\"x24\":\t\"Bottle of Wine\",\n",
    "\"x25\":\t\"Domestic Beer\",\n",
    "\"x26\":\t\"Imported Beer\",\n",
    "\"x27\":\t\"Cigarettes\",\n",
    "\"x28\":\t\"Local Transport\",\n",
    "\"x29\":\t\"Monthly Pass\",\n",
    "\"x30\":\t\"Taxi Start\",\n",
    "\"x31\":\t\"Taxi 1km\",\n",
    "\"x32\":\t\"Taxi Waiting\",\n",
    "\"x33\":\t\"Gasoline\",\n",
    "\"x34\":\t\"Volkswagen Golf\",\n",
    "\"x35\":\t\"Toyota Corolla\",\n",
    "\"x36\":\t\"Basic\" ,\n",
    "\"x37\":\t\"Mobile Tariff\",\n",
    "\"x38\":\t\"Internet\",\n",
    "\"x39\":\t\"Fitness Club\",\n",
    "\"x40\":\t\"Tennis\",\n",
    "\"x41\":\t\"Cinema\",\n",
    "\"x42\":\t\"Preschool\",\n",
    "\"x43\":\t\"Primary School\",\n",
    "\"x44\":\t\"Jeans\",\n",
    "\"x45\":\t\"Summer Dress\",\n",
    "\"x46\":\t\"Running Shoes\",\n",
    "\"x47\":\t\"Business Shoes\",\n",
    "\"x48\":\t\"1 bedroom Centre\",\n",
    "\"x49\":\t\"1 bedroom Out\",\n",
    "\"x50\":\t\"3 bedrooms Centre\",\n",
    "\"x51\":\t\"3 bedrooms Out\",\n",
    "\"x52\":\t\"Price Meter Centre\",\n",
    "\"x53\":\t\"Price Meter Out\",\n",
    "\"x54\":\t\"Average Monthly\",\n",
    "\"x55\":\t\"Mortgage Interest\"}"
   ]
  },
  {
   "cell_type": "code",
   "execution_count": 35,
   "metadata": {},
   "outputs": [],
   "source": [
    "df.rename(columns= columnas_nuevas, inplace= True)"
   ]
  },
  {
   "cell_type": "code",
   "execution_count": 36,
   "metadata": {},
   "outputs": [
    {
     "data": {
      "text/plain": [
       "Index(['city', 'country', 'Meal', 'Meal for 2 People', 'McMeal',\n",
       "       'Domestic Beer Rest', 'Imported Beer Rest', 'Cappuccino', 'Coke/Pepsi',\n",
       "       'Water Rest', 'Milk', 'Bread', 'Rice', 'Eggs', 'Local Cheese',\n",
       "       'Chicken Fillets', 'Beef Round', 'Apples', 'Banana', 'Oranges',\n",
       "       'Tomato', 'Potato', 'Onion', 'Lettuce', 'Water', 'Bottle of Wine',\n",
       "       'Domestic Beer', 'Imported Beer', 'Cigarettes', 'Local Transport',\n",
       "       'Monthly Pass', 'Taxi Start', 'Taxi 1km', 'Taxi Waiting', 'Gasoline',\n",
       "       'Volkswagen Golf', 'Toyota Corolla', 'Basic', 'Mobile Tariff',\n",
       "       'Internet', 'Fitness Club', 'Tennis', 'Cinema', 'Preschool',\n",
       "       'Primary School', 'Jeans', 'Summer Dress', 'Running Shoes',\n",
       "       'Business Shoes', '1 bedroom Centre', '1 bedroom Out',\n",
       "       '3 bedrooms Centre', '3 bedrooms Out', 'Price Meter Centre',\n",
       "       'Price Meter Out', 'Average Monthly', 'Mortgage Interest',\n",
       "       'data_quality'],\n",
       "      dtype='object')"
      ]
     },
     "execution_count": 36,
     "metadata": {},
     "output_type": "execute_result"
    }
   ],
   "source": [
    "df.columns"
   ]
  },
  {
   "cell_type": "code",
   "execution_count": 37,
   "metadata": {},
   "outputs": [
    {
     "data": {
      "text/plain": [
       "city                   object\n",
       "country                object\n",
       "Meal                  float64\n",
       "Meal for 2 People     float64\n",
       "McMeal                float64\n",
       "Domestic Beer Rest    float64\n",
       "Imported Beer Rest    float64\n",
       "Cappuccino            float64\n",
       "Coke/Pepsi            float64\n",
       "Water Rest            float64\n",
       "Milk                  float64\n",
       "Bread                 float64\n",
       "Rice                  float64\n",
       "Eggs                  float64\n",
       "Local Cheese          float64\n",
       "Chicken Fillets       float64\n",
       "Beef Round            float64\n",
       "Apples                float64\n",
       "Banana                float64\n",
       "Oranges               float64\n",
       "Tomato                float64\n",
       "Potato                float64\n",
       "Onion                 float64\n",
       "Lettuce               float64\n",
       "Water                 float64\n",
       "Bottle of Wine        float64\n",
       "Domestic Beer         float64\n",
       "Imported Beer         float64\n",
       "Cigarettes            float64\n",
       "Local Transport       float64\n",
       "Monthly Pass          float64\n",
       "Taxi Start            float64\n",
       "Taxi 1km              float64\n",
       "Taxi Waiting          float64\n",
       "Gasoline              float64\n",
       "Volkswagen Golf       float64\n",
       "Toyota Corolla        float64\n",
       "Basic                 float64\n",
       "Mobile Tariff         float64\n",
       "Internet              float64\n",
       "Fitness Club          float64\n",
       "Tennis                float64\n",
       "Cinema                float64\n",
       "Preschool             float64\n",
       "Primary School        float64\n",
       "Jeans                 float64\n",
       "Summer Dress          float64\n",
       "Running Shoes         float64\n",
       "Business Shoes        float64\n",
       "1 bedroom Centre      float64\n",
       "1 bedroom Out         float64\n",
       "3 bedrooms Centre     float64\n",
       "3 bedrooms Out        float64\n",
       "Price Meter Centre    float64\n",
       "Price Meter Out       float64\n",
       "Average Monthly       float64\n",
       "Mortgage Interest     float64\n",
       "data_quality            int64\n",
       "dtype: object"
      ]
     },
     "execution_count": 37,
     "metadata": {},
     "output_type": "execute_result"
    }
   ],
   "source": [
    "df.dtypes"
   ]
  },
  {
   "cell_type": "code",
   "execution_count": 39,
   "metadata": {},
   "outputs": [
    {
     "data": {
      "text/plain": [
       "city                     0\n",
       "country                  0\n",
       "Meal                   425\n",
       "Meal for 2 People      442\n",
       "McMeal                 322\n",
       "Domestic Beer Rest     489\n",
       "Imported Beer Rest     429\n",
       "Cappuccino             334\n",
       "Coke/Pepsi             436\n",
       "Water Rest             303\n",
       "Milk                   380\n",
       "Bread                  417\n",
       "Rice                   336\n",
       "Eggs                   505\n",
       "Local Cheese           481\n",
       "Chicken Fillets        556\n",
       "Beef Round             562\n",
       "Apples                 365\n",
       "Banana                 375\n",
       "Oranges                435\n",
       "Tomato                 464\n",
       "Potato                 430\n",
       "Onion                  427\n",
       "Lettuce                495\n",
       "Water                  384\n",
       "Bottle of Wine         460\n",
       "Domestic Beer          725\n",
       "Imported Beer          651\n",
       "Cigarettes             485\n",
       "Local Transport       1473\n",
       "Monthly Pass          2124\n",
       "Taxi Start             861\n",
       "Taxi 1km              1005\n",
       "Taxi Waiting          1368\n",
       "Gasoline               578\n",
       "Volkswagen Golf       1035\n",
       "Toyota Corolla         970\n",
       "Basic                  474\n",
       "Mobile Tariff         1172\n",
       "Internet               340\n",
       "Fitness Club          1351\n",
       "Tennis                2366\n",
       "Cinema                 469\n",
       "Preschool             1113\n",
       "Primary School        1644\n",
       "Jeans                  461\n",
       "Summer Dress           601\n",
       "Running Shoes          486\n",
       "Business Shoes         537\n",
       "1 bedroom Centre      1341\n",
       "1 bedroom Out         1409\n",
       "3 bedrooms Centre     1456\n",
       "3 bedrooms Out        1489\n",
       "Price Meter Centre    2193\n",
       "Price Meter Out       2265\n",
       "Average Monthly       1415\n",
       "Mortgage Interest      980\n",
       "data_quality             0\n",
       "dtype: int64"
      ]
     },
     "execution_count": 39,
     "metadata": {},
     "output_type": "execute_result"
    }
   ],
   "source": [
    "df.isnull().sum()"
   ]
  },
  {
   "attachments": {},
   "cell_type": "markdown",
   "metadata": {},
   "source": [
    "2. Extraer los siguentes estadísiticos del conjunto de datos para varias de las variables disponibles:\n",
    "\n",
    "Media\n",
    "\n",
    "Desviación con respecto de la media\n",
    "\n",
    "Varianza\n",
    "\n",
    "Desviación típica\n",
    "\n",
    "Moda\n",
    "\n",
    "Mediana\n",
    "\n",
    "Media ponderada\n",
    "\n",
    "Robustez\n",
    "\n",
    "Coeficiente de variación"
   ]
  },
  {
   "cell_type": "code",
   "execution_count": 40,
   "metadata": {},
   "outputs": [
    {
     "name": "stdout",
     "output_type": "stream",
     "text": [
      "Media del precio del Meal por persona: 10.321643065857495\n",
      "Media del precio del arroz: 2.182243278977523\n",
      "Media del precio del MacMeal: 6.8754261862917385\n",
      "Media del precio de la gasolina: 1.3447672253258844\n",
      "Media del precio del apartamento: 710.6961562411549\n",
      "Media del precio del apartamento de 3 habitaciones en las afueras: 973.6038670605612\n"
     ]
    }
   ],
   "source": [
    "# Media\n",
    "print(\"Media del precio del Meal por persona:\", df[\"Meal\"].mean())\n",
    "print(\"Media del precio del arroz:\", df[\"Rice\"].mean())\n",
    "print(\"Media del precio del MacMeal:\", df[\"McMeal\"].mean())\n",
    "print(\"Media del precio de la gasolina:\", df[\"Gasoline\"].mean())\n",
    "print(\"Media del precio del apartamento:\", df[\"1 bedroom Centre\"].mean())\n",
    "print(\"Media del precio del apartamento de 3 habitaciones en las afueras:\", df[\"3 bedrooms Out\"].mean())"
   ]
  },
  {
   "cell_type": "code",
   "execution_count": 43,
   "metadata": {},
   "outputs": [
    {
     "name": "stdout",
     "output_type": "stream",
     "text": [
      "Desviación respecto a la media del precio del Meal por persona: 0        5.421643\n",
      "1        4.731643\n",
      "2        7.781643\n",
      "3        6.781643\n",
      "4        3.161643\n",
      "          ...    \n",
      "4869          NaN\n",
      "4870          NaN\n",
      "4871     5.131643\n",
      "4872    19.458357\n",
      "4873          NaN\n",
      "Name: Meal, Length: 4874, dtype: float64\n",
      "Desviación respecto a la media del precio del arroz: 0       1.302243\n",
      "1       1.002243\n",
      "2       1.352243\n",
      "3       1.292243\n",
      "4       1.477757\n",
      "          ...   \n",
      "4869         NaN\n",
      "4870         NaN\n",
      "4871         NaN\n",
      "4872    4.707757\n",
      "4873         NaN\n",
      "Name: Rice, Length: 4874, dtype: float64\n",
      "Desviación respecto a la media del precio del MacMeal: 0       2.595426\n",
      "1       1.285426\n",
      "2       3.375426\n",
      "3       3.335426\n",
      "4       0.845426\n",
      "          ...   \n",
      "4869         NaN\n",
      "4870         NaN\n",
      "4871    6.094574\n",
      "4872    6.894574\n",
      "4873    3.674574\n",
      "Name: McMeal, Length: 4874, dtype: float64\n",
      "Desviación respecto a la media del precio de la gasolina: 0       0.094767\n",
      "1       0.174767\n",
      "2       0.554767\n",
      "3       0.035233\n",
      "4       0.065233\n",
      "          ...   \n",
      "4869         NaN\n",
      "4870         NaN\n",
      "4871    0.334767\n",
      "4872         NaN\n",
      "4873         NaN\n",
      "Name: Gasoline, Length: 4874, dtype: float64\n",
      "Desviación respecto a la media del precio del apartamento: 0       486.826156\n",
      "1       369.373844\n",
      "2       227.846156\n",
      "3       151.176156\n",
      "4        99.133844\n",
      "           ...    \n",
      "4869           NaN\n",
      "4870           NaN\n",
      "4871    295.586156\n",
      "4872           NaN\n",
      "4873           NaN\n",
      "Name: 1 bedroom Centre, Length: 4874, dtype: float64\n",
      "Desviación respecto a la media del precio del apartamento de 3 habitaciones en las afueras: 0        647.783867\n",
      "1        558.626133\n",
      "2        389.233867\n",
      "3        288.793867\n",
      "4        710.136133\n",
      "           ...     \n",
      "4869            NaN\n",
      "4870            NaN\n",
      "4871     558.493867\n",
      "4872    2004.506133\n",
      "4873            NaN\n",
      "Name: 3 bedrooms Out, Length: 4874, dtype: float64\n"
     ]
    }
   ],
   "source": [
    "# Desviación respecto a la media\n",
    "print(\"Desviación respecto a la media del precio del Meal por persona:\", np.abs(df[\"Meal\"] -df[\"Meal\"].mean()))\n",
    "print(\"Desviación respecto a la media del precio del arroz:\", np.abs(df[\"Rice\"] -df[\"Rice\"].mean()))\n",
    "print(\"Desviación respecto a la media del precio del MacMeal:\", np.abs(df[\"McMeal\"] -df[\"McMeal\"].mean()))\n",
    "print(\"Desviación respecto a la media del precio de la gasolina:\", np.abs(df[\"Gasoline\"] -df[\"Gasoline\"].mean()))\n",
    "print(\"Desviación respecto a la media del precio del apartamento:\", np.abs(df[\"1 bedroom Centre\"] -df[\"1 bedroom Centre\"].mean()))\n",
    "print(\"Desviación respecto a la media del precio del apartamento de 3 habitaciones en las afueras:\", np.abs(df[\"3 bedrooms Out\"] -df[\"3 bedrooms Out\"].mean()))"
   ]
  },
  {
   "cell_type": "code",
   "execution_count": 44,
   "metadata": {},
   "outputs": [
    {
     "name": "stdout",
     "output_type": "stream",
     "text": [
      "Varianza del precio del Meal por persona: 51.34449556861308\n",
      "Varianza del precio del arroz: 2.682644029847922\n",
      "Varianza del precio del MacMeal: 7.123654399736003\n",
      "Varianza del precio de la gasolina: 0.23576055115839775\n",
      "Varianza del precio del apartamento: 423025.626860758\n",
      "Varianza del precio del apartamento de 3 habitaciones en las afueras: 858498.8063168089\n"
     ]
    }
   ],
   "source": [
    "# Varianza\n",
    "print(\"Varianza del precio del Meal por persona:\", df[\"Meal\"].var())\n",
    "print(\"Varianza del precio del arroz:\", df[\"Rice\"].var())\n",
    "print(\"Varianza del precio del MacMeal:\", df[\"McMeal\"].var())\n",
    "print(\"Varianza del precio de la gasolina:\", df[\"Gasoline\"].var())\n",
    "print(\"Varianza del precio del apartamento:\", df[\"1 bedroom Centre\"].var())\n",
    "print(\"Varianza del precio del apartamento de 3 habitaciones en las afueras:\", df[\"3 bedrooms Out\"].var())"
   ]
  },
  {
   "cell_type": "code",
   "execution_count": 45,
   "metadata": {},
   "outputs": [
    {
     "name": "stdout",
     "output_type": "stream",
     "text": [
      "Desviación típica del precio del Meal por persona: 7.165507349002796\n",
      "Desviación típica del precio del arroz: 1.6378779044385214\n",
      "Desviación típica del precio del MacMeal: 2.66901749708315\n",
      "Desviación típica del precio de la gasolina: 0.4855518006952479\n",
      "Desviación típica del precio del apartamento: 650.4042026776565\n",
      "Desviación típica del precio del apartamento de 3 habitaciones en las afueras: 926.5521066388058\n"
     ]
    }
   ],
   "source": [
    "# Desviación típica\n",
    "print(\"Desviación típica del precio del Meal por persona:\", df[\"Meal\"].std())\n",
    "print(\"Desviación típica del precio del arroz:\", df[\"Rice\"].std())\n",
    "print(\"Desviación típica del precio del MacMeal:\", df[\"McMeal\"].std())\n",
    "print(\"Desviación típica del precio de la gasolina:\", df[\"Gasoline\"].std())\n",
    "print(\"Desviación típica del precio del apartamento:\", df[\"1 bedroom Centre\"].std())\n",
    "print(\"Desviación típica del precio del apartamento de 3 habitaciones en las afueras:\", df[\"3 bedrooms Out\"].std())"
   ]
  },
  {
   "cell_type": "code",
   "execution_count": 47,
   "metadata": {},
   "outputs": [
    {
     "name": "stdout",
     "output_type": "stream",
     "text": [
      "Moda del precio del Meal por persona: 15.0\n",
      "Moda del precio del arroz: 0.93\n",
      "Moda del precio del MacMeal: 8.0\n",
      "Moda del precio de la gasolina: 1.23\n",
      "Moda del precio del apartamento: 623.22\n",
      "Moda del precio del apartamento de 3 habitaciones en las afueras: 727.09\n"
     ]
    }
   ],
   "source": [
    "# Moda\n",
    "print(\"Moda del precio del Meal por persona:\", df[\"Meal\"].mode()[0])\n",
    "print(\"Moda del precio del arroz:\", df[\"Rice\"].mode()[0])\n",
    "print(\"Moda del precio del MacMeal:\", df[\"McMeal\"].mode()[0])\n",
    "print(\"Moda del precio de la gasolina:\", df[\"Gasoline\"].mode()[0])\n",
    "print(\"Moda del precio del apartamento:\", df[\"1 bedroom Centre\"].mode()[0])\n",
    "print(\"Moda del precio del apartamento de 3 habitaciones en las afueras:\", df[\"3 bedrooms Out\"].mode()[0])"
   ]
  },
  {
   "cell_type": "code",
   "execution_count": 48,
   "metadata": {},
   "outputs": [
    {
     "name": "stdout",
     "output_type": "stream",
     "text": [
      "Mediana del precio del Meal por persona: 9.83\n",
      "Mediana del precio del arroz: 1.68\n",
      "Mediana del precio del MacMeal: 6.96\n",
      "Mediana del precio de la gasolina: 1.26\n",
      "Mediana del precio del apartamento: 519.35\n",
      "Mediana del precio del apartamento de 3 habitaciones en las afueras: 720.71\n"
     ]
    }
   ],
   "source": [
    "# Mediana\n",
    "print(\"Mediana del precio del Meal por persona:\", df[\"Meal\"].median())\n",
    "print(\"Mediana del precio del arroz:\", df[\"Rice\"].median())\n",
    "print(\"Mediana del precio del MacMeal:\", df[\"McMeal\"].median())\n",
    "print(\"Mediana del precio de la gasolina:\", df[\"Gasoline\"].median())\n",
    "print(\"Mediana del precio del apartamento:\", df[\"1 bedroom Centre\"].median())\n",
    "print(\"Mediana del precio del apartamento de 3 habitaciones en las afueras:\", df[\"3 bedrooms Out\"].median())"
   ]
  },
  {
   "cell_type": "code",
   "execution_count": 49,
   "metadata": {},
   "outputs": [],
   "source": [
    "w = np.random.randint(0,100, df.shape[0])"
   ]
  },
  {
   "cell_type": "code",
   "execution_count": 54,
   "metadata": {},
   "outputs": [
    {
     "data": {
      "text/plain": [
       "array([56, 89, 73, ..., 11,  4, 78])"
      ]
     },
     "execution_count": 54,
     "metadata": {},
     "output_type": "execute_result"
    }
   ],
   "source": [
    "w"
   ]
  },
  {
   "cell_type": "code",
   "execution_count": 56,
   "metadata": {},
   "outputs": [
    {
     "name": "stdout",
     "output_type": "stream",
     "text": [
      "Media ponderada del precio del Meal por persona: 0.9127668773548002\n",
      "Media ponderada del precio del arroz: 0.930567622655494\n",
      "Media ponderada del precio del MacMeal: 0.9302340903007967\n",
      "Media ponderada del precio de la gasolina: 0.8836342673611826\n",
      "Media ponderada del precio del apartamento: 0.7227193181116304\n",
      "Media ponderada del precio del apartamento de 3 habitaciones en las afueras: 0.6945461283481913\n"
     ]
    }
   ],
   "source": [
    "# Media ponderada\n",
    "print(\"Media ponderada del precio del Meal por persona:\", np.average(df[\"Meal\"].notnull(),weights= w))\n",
    "print(\"Media ponderada del precio del arroz:\", np.average(df[\"Rice\"].notnull(),weights= w))\n",
    "print(\"Media ponderada del precio del MacMeal:\", np.average(df[\"McMeal\"].notnull(),weights= w))\n",
    "print(\"Media ponderada del precio de la gasolina:\", np.average(df[\"Gasoline\"].notnull(),weights= w))\n",
    "print(\"Media ponderada del precio del apartamento:\", np.average(df[\"1 bedroom Centre\"].notnull(),weights= w))\n",
    "print(\"Media ponderada del precio del apartamento de 3 habitaciones en las afueras:\", np.average(df[\"3 bedrooms Out\"].notnull(),weights= w))"
   ]
  },
  {
   "cell_type": "code",
   "execution_count": null,
   "metadata": {},
   "outputs": [],
   "source": [
    "#Robustez"
   ]
  },
  {
   "cell_type": "code",
   "execution_count": null,
   "metadata": {},
   "outputs": [],
   "source": [
    "#calculamos punto de ruptura de la varianza:\n",
    "n_f = instagram[\"followers\"].mean()\n",
    "punto_ruptura_f = 1/n_f\n",
    "punto_ruptura_f"
   ]
  },
  {
   "cell_type": "code",
   "execution_count": 57,
   "metadata": {},
   "outputs": [
    {
     "name": "stdout",
     "output_type": "stream",
     "text": [
      "Coeficiente de variación del precio del Meal por persona: 1.4404622817523074\n",
      "Coeficiente de variación del precio del arroz: 1.3323601674238439\n",
      "Coeficiente de variación del precio del MacMeal: 4.1977647831134846\n",
      "Coeficiente de variación del precio de la gasolina: 0.8210424120636038\n",
      "Coeficiente de variación del precio del apartamento: 433.91278087043224\n",
      "Coeficiente de variación del precio del apartamento de 3 habitaciones en las afueras: 594.4300636953284\n"
     ]
    }
   ],
   "source": [
    "# Coeficiente de variación\n",
    "print(\"Coeficiente de variación del precio del Meal por persona:\", df[\"Meal\"].mean()/df[\"Meal\"].std())\n",
    "print(\"Coeficiente de variación del precio del arroz:\", df[\"Rice\"].mean()/df[\"Rice\"].std())\n",
    "print(\"Coeficiente de variación del precio del MacMeal:\", df[\"McMeal\"].mean()/df[\"Rice\"].std())\n",
    "print(\"Coeficiente de variación del precio de la gasolina:\", df[\"Gasoline\"].mean()/df[\"Rice\"].std())\n",
    "print(\"Coeficiente de variación del precio del apartamento:\", df[\"1 bedroom Centre\"].mean()/df[\"Rice\"].std())\n",
    "print(\"Coeficiente de variación del precio del apartamento de 3 habitaciones en las afueras:\", df[\"3 bedrooms Out\"].mean()/df[\"Rice\"].std())"
   ]
  },
  {
   "attachments": {},
   "cell_type": "markdown",
   "metadata": {},
   "source": [
    "3. Interpretación de los resultados.\n",
    "\n",
    "Ahora interpreta los resultados obtenidos de los diferentes estadísticos estudiados haciendo hincapié en aspectos interesantes de tus datos y explica lo mejor posible la naturaleza de los mismos."
   ]
  },
  {
   "cell_type": "markdown",
   "metadata": {},
   "source": []
  }
 ],
 "metadata": {
  "kernelspec": {
   "display_name": "base",
   "language": "python",
   "name": "python3"
  },
  "language_info": {
   "codemirror_mode": {
    "name": "ipython",
    "version": 3
   },
   "file_extension": ".py",
   "mimetype": "text/x-python",
   "name": "python",
   "nbconvert_exporter": "python",
   "pygments_lexer": "ipython3",
   "version": "3.9.7"
  },
  "orig_nbformat": 4,
  "vscode": {
   "interpreter": {
    "hash": "f25093244bacc7e62393c275f4a06a2027bcbdb9a67d7fe53680dbd2484adc03"
   }
  }
 },
 "nbformat": 4,
 "nbformat_minor": 2
}
