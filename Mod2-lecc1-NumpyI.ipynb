{
 "cells": [
  {
   "cell_type": "markdown",
   "metadata": {},
   "source": [
    "## Ejercicios pair programming 01 diciembre: Numpy I"
   ]
  },
  {
   "cell_type": "markdown",
   "metadata": {},
   "source": [
    "Ejercicio 1: Cread tres arrays: de una, dos y tres dimensiones.\n",
    "Lo podéis hacer usando los métodos de random que hemos aprendido o a través de listas em algunos casos.\n",
    "\n",
    "📌 Nota\n",
    "\n",
    "El array de 2 dimensiones debe ser de 2 filas y 3 columnas\n",
    "El array de 3 dimensiones debe ser de 2 matrices, 3 filas y 5 columnas"
   ]
  },
  {
   "cell_type": "code",
   "execution_count": 1,
   "metadata": {},
   "outputs": [],
   "source": [
    "import numpy as np    #importamos la libreria para poder trabajar con numpy"
   ]
  },
  {
   "cell_type": "code",
   "execution_count": 9,
   "metadata": {},
   "outputs": [
    {
     "data": {
      "text/plain": [
       "array([ 23, 213,  53,  24])"
      ]
     },
     "execution_count": 9,
     "metadata": {},
     "output_type": "execute_result"
    }
   ],
   "source": [
    "lista1 = [23,213,53,24]   #para el primer array usaremos una lista para crear el array\n",
    "array1= np.array(lista1)\n",
    "array1"
   ]
  },
  {
   "cell_type": "code",
   "execution_count": 10,
   "metadata": {},
   "outputs": [
    {
     "data": {
      "text/plain": [
       "array([[67, 82,  3],\n",
       "       [90, 33, 14]])"
      ]
     },
     "execution_count": 10,
     "metadata": {},
     "output_type": "execute_result"
    }
   ],
   "source": [
    "array2 = np.random.randint(0,100, (2,3))  #para el segundo array usaremos el metodo random.randint\n",
    "array2\n"
   ]
  },
  {
   "cell_type": "code",
   "execution_count": 11,
   "metadata": {},
   "outputs": [
    {
     "data": {
      "text/plain": [
       "array([[[0.77940541, 0.60883768, 0.56230964, 0.95078194, 0.56414798],\n",
       "        [0.21534585, 0.36178689, 0.61647364, 0.80110524, 0.30295165],\n",
       "        [0.68078458, 0.79458018, 0.49755018, 0.97055107, 0.55289818]],\n",
       "\n",
       "       [[0.046657  , 0.20242292, 0.4737093 , 0.96959788, 0.06337076],\n",
       "        [0.0726083 , 0.27215752, 0.35451886, 0.17125681, 0.2093337 ],\n",
       "        [0.97011762, 0.22147151, 0.00568107, 0.4482927 , 0.287842  ]]])"
      ]
     },
     "execution_count": 11,
     "metadata": {},
     "output_type": "execute_result"
    }
   ],
   "source": [
    "array3 = np.random.rand(2,3,5)  #para el tercer array usaremos random entre 0 y 1\n",
    "array3\n"
   ]
  },
  {
   "cell_type": "markdown",
   "metadata": {},
   "source": [
    "Ejercicio 2: Chequed las las propiedades básicas de cada array que os hayáis creado. Usad en una función que nos devuelva las propiedades de una array que le pasemos."
   ]
  },
  {
   "cell_type": "code",
   "execution_count": 14,
   "metadata": {},
   "outputs": [],
   "source": [
    "def chequear_array(array):\n",
    "    print(f\"La dimension del array {array} es: {array.ndim}\")  #aqui nos printea la dimension del array\n",
    "    print(f\"El tipo del array {array} es: {array.dtype}\")   #aqui nos printea el tipo del array\n",
    "    print(f\"El tamaño del array {array} es: {array.size}\")  #aqui nos printea el tamaño del array\n",
    "    print(f\"La forma del array {array} es: {array.shape}\")  #aqui nos printea la forma del array"
   ]
  },
  {
   "cell_type": "code",
   "execution_count": 15,
   "metadata": {},
   "outputs": [
    {
     "name": "stdout",
     "output_type": "stream",
     "text": [
      "La dimension del array [ 23 213  53  24] es: 1\n",
      "El tipo del array [ 23 213  53  24] es: int64\n",
      "El tamaño del array [ 23 213  53  24] es: 4\n",
      "La forma del array [ 23 213  53  24] es: (4,)\n"
     ]
    }
   ],
   "source": [
    "chequear_array(array1)"
   ]
  },
  {
   "cell_type": "code",
   "execution_count": 16,
   "metadata": {},
   "outputs": [
    {
     "name": "stdout",
     "output_type": "stream",
     "text": [
      "La dimension del array [[67 82  3]\n",
      " [90 33 14]] es: 2\n",
      "El tipo del array [[67 82  3]\n",
      " [90 33 14]] es: int64\n",
      "El tamaño del array [[67 82  3]\n",
      " [90 33 14]] es: 6\n",
      "La forma del array [[67 82  3]\n",
      " [90 33 14]] es: (2, 3)\n"
     ]
    }
   ],
   "source": [
    "chequear_array(array2)"
   ]
  },
  {
   "cell_type": "code",
   "execution_count": 17,
   "metadata": {},
   "outputs": [
    {
     "name": "stdout",
     "output_type": "stream",
     "text": [
      "La dimension del array [[[0.77940541 0.60883768 0.56230964 0.95078194 0.56414798]\n",
      "  [0.21534585 0.36178689 0.61647364 0.80110524 0.30295165]\n",
      "  [0.68078458 0.79458018 0.49755018 0.97055107 0.55289818]]\n",
      "\n",
      " [[0.046657   0.20242292 0.4737093  0.96959788 0.06337076]\n",
      "  [0.0726083  0.27215752 0.35451886 0.17125681 0.2093337 ]\n",
      "  [0.97011762 0.22147151 0.00568107 0.4482927  0.287842  ]]] es: 3\n",
      "El tipo del array [[[0.77940541 0.60883768 0.56230964 0.95078194 0.56414798]\n",
      "  [0.21534585 0.36178689 0.61647364 0.80110524 0.30295165]\n",
      "  [0.68078458 0.79458018 0.49755018 0.97055107 0.55289818]]\n",
      "\n",
      " [[0.046657   0.20242292 0.4737093  0.96959788 0.06337076]\n",
      "  [0.0726083  0.27215752 0.35451886 0.17125681 0.2093337 ]\n",
      "  [0.97011762 0.22147151 0.00568107 0.4482927  0.287842  ]]] es: float64\n",
      "El tamaño del array [[[0.77940541 0.60883768 0.56230964 0.95078194 0.56414798]\n",
      "  [0.21534585 0.36178689 0.61647364 0.80110524 0.30295165]\n",
      "  [0.68078458 0.79458018 0.49755018 0.97055107 0.55289818]]\n",
      "\n",
      " [[0.046657   0.20242292 0.4737093  0.96959788 0.06337076]\n",
      "  [0.0726083  0.27215752 0.35451886 0.17125681 0.2093337 ]\n",
      "  [0.97011762 0.22147151 0.00568107 0.4482927  0.287842  ]]] es: 30\n",
      "La forma del array [[[0.77940541 0.60883768 0.56230964 0.95078194 0.56414798]\n",
      "  [0.21534585 0.36178689 0.61647364 0.80110524 0.30295165]\n",
      "  [0.68078458 0.79458018 0.49755018 0.97055107 0.55289818]]\n",
      "\n",
      " [[0.046657   0.20242292 0.4737093  0.96959788 0.06337076]\n",
      "  [0.0726083  0.27215752 0.35451886 0.17125681 0.2093337 ]\n",
      "  [0.97011762 0.22147151 0.00568107 0.4482927  0.287842  ]]] es: (2, 3, 5)\n"
     ]
    }
   ],
   "source": [
    "chequear_array(array3)"
   ]
  },
  {
   "cell_type": "markdown",
   "metadata": {},
   "source": [
    "Ejercicio 3: Cread una matriz identidad de dos dimensiones de 3 filas y 3 columnas"
   ]
  },
  {
   "cell_type": "code",
   "execution_count": 19,
   "metadata": {},
   "outputs": [
    {
     "data": {
      "text/plain": [
       "array([[1., 0., 0.],\n",
       "       [0., 1., 0.],\n",
       "       [0., 0., 1.]])"
      ]
     },
     "execution_count": 19,
     "metadata": {},
     "output_type": "execute_result"
    }
   ],
   "source": [
    "array4= np.identity(3)   #creamos la matriz identidad con el metodo identity\n",
    "array4"
   ]
  },
  {
   "cell_type": "markdown",
   "metadata": {},
   "source": [
    "Ejercicio 4: Cread una matriz de tres dimensiones de unos igual a la martiz de tres dimensiones creada en el primer ejercicio."
   ]
  },
  {
   "cell_type": "code",
   "execution_count": 20,
   "metadata": {},
   "outputs": [
    {
     "data": {
      "text/plain": [
       "array([[[1., 1., 1., 1., 1.],\n",
       "        [1., 1., 1., 1., 1.],\n",
       "        [1., 1., 1., 1., 1.]],\n",
       "\n",
       "       [[1., 1., 1., 1., 1.],\n",
       "        [1., 1., 1., 1., 1.],\n",
       "        [1., 1., 1., 1., 1.]]])"
      ]
     },
     "execution_count": 20,
     "metadata": {},
     "output_type": "execute_result"
    }
   ],
   "source": [
    "array5 = np.ones_like(array3)   #creamos la nueva array con el metodo ones_like copiando la alterior\n",
    "array5"
   ]
  },
  {
   "cell_type": "markdown",
   "metadata": {},
   "source": [
    "Ejercicio 5: Es el momento de hacer algunas operaciones entre arrays\n",
    "\n",
    "¿Se puede sumar el array de dos dimensiones que creamos en el primer ejecicios a la matriz identidad? ¿Por qué?\n",
    "\n",
    "En caso de que no se puedan sumar, busca una solución para sumar una matriz identidad a otra. La solución puede ser crear un array nuevo.\n",
    "\n",
    "Multiplicad la matriz identidad por la nueva matriz que os creasteis en el ejercicio anterior.\n",
    "\n",
    "Dividid las dos matricess"
   ]
  },
  {
   "cell_type": "code",
   "execution_count": 21,
   "metadata": {},
   "outputs": [
    {
     "ename": "ValueError",
     "evalue": "operands could not be broadcast together with shapes (2,3) (3,3) ",
     "output_type": "error",
     "traceback": [
      "\u001b[0;31m---------------------------------------------------------------------------\u001b[0m",
      "\u001b[0;31mValueError\u001b[0m                                Traceback (most recent call last)",
      "\u001b[0;32m/var/folders/lb/nyps7wf17_767t6ln21znwmh0000gn/T/ipykernel_27152/3105761139.py\u001b[0m in \u001b[0;36m<module>\u001b[0;34m\u001b[0m\n\u001b[1;32m      1\u001b[0m \u001b[0;31m#Sumar array de diferentes dimensiones\u001b[0m\u001b[0;34m\u001b[0m\u001b[0;34m\u001b[0m\u001b[0m\n\u001b[0;32m----> 2\u001b[0;31m \u001b[0marray6\u001b[0m \u001b[0;34m=\u001b[0m \u001b[0marray2\u001b[0m \u001b[0;34m+\u001b[0m \u001b[0marray4\u001b[0m\u001b[0;34m\u001b[0m\u001b[0;34m\u001b[0m\u001b[0m\n\u001b[0m",
      "\u001b[0;31mValueError\u001b[0m: operands could not be broadcast together with shapes (2,3) (3,3) "
     ]
    }
   ],
   "source": [
    "#Sumar array \n",
    "array6 = array2 + array4 \n",
    "#nos da error porque tienen diferente forma, una dos filas y la otra tres"
   ]
  },
  {
   "cell_type": "code",
   "execution_count": 22,
   "metadata": {},
   "outputs": [
    {
     "data": {
      "text/plain": [
       "array([[2., 0., 0.],\n",
       "       [0., 2., 0.],\n",
       "       [0., 0., 2.]])"
      ]
     },
     "execution_count": 22,
     "metadata": {},
     "output_type": "execute_result"
    }
   ],
   "source": [
    "#la solucion seria crear un array nuevo de 3 dimensiones\n",
    "array7 = np.identity(3)\n",
    "array8 = array7 + array4\n",
    "array8\n"
   ]
  },
  {
   "cell_type": "code",
   "execution_count": 26,
   "metadata": {},
   "outputs": [
    {
     "data": {
      "text/plain": [
       "array([[2., 0., 0.],\n",
       "       [0., 2., 0.],\n",
       "       [0., 0., 2.]])"
      ]
     },
     "execution_count": 26,
     "metadata": {},
     "output_type": "execute_result"
    }
   ],
   "source": [
    "np.add(array7,array4)   #usamos el metodo de numpy para sumar arrays"
   ]
  },
  {
   "cell_type": "code",
   "execution_count": 23,
   "metadata": {},
   "outputs": [
    {
     "data": {
      "text/plain": [
       "array([[2., 0., 0.],\n",
       "       [0., 2., 0.],\n",
       "       [0., 0., 2.]])"
      ]
     },
     "execution_count": 23,
     "metadata": {},
     "output_type": "execute_result"
    }
   ],
   "source": [
    "#multiplicamos las array\n",
    "array9 = array8 * array4\n",
    "array9"
   ]
  },
  {
   "cell_type": "code",
   "execution_count": 27,
   "metadata": {},
   "outputs": [
    {
     "data": {
      "text/plain": [
       "array([[2., 0., 0.],\n",
       "       [0., 2., 0.],\n",
       "       [0., 0., 2.]])"
      ]
     },
     "execution_count": 27,
     "metadata": {},
     "output_type": "execute_result"
    }
   ],
   "source": [
    "np.multiply(array8,array4)  #usamos el metodo de numpy para multiplicar array"
   ]
  },
  {
   "cell_type": "code",
   "execution_count": 24,
   "metadata": {},
   "outputs": [
    {
     "name": "stderr",
     "output_type": "stream",
     "text": [
      "/var/folders/lb/nyps7wf17_767t6ln21znwmh0000gn/T/ipykernel_27152/2467989799.py:2: RuntimeWarning: invalid value encountered in true_divide\n",
      "  array10 = array8 / array4\n"
     ]
    },
    {
     "data": {
      "text/plain": [
       "array([[ 2., nan, nan],\n",
       "       [nan,  2., nan],\n",
       "       [nan, nan,  2.]])"
      ]
     },
     "execution_count": 24,
     "metadata": {},
     "output_type": "execute_result"
    }
   ],
   "source": [
    "#dividimos las array\n",
    "array10 = array8 / array4\n",
    "array10"
   ]
  },
  {
   "cell_type": "code",
   "execution_count": 28,
   "metadata": {},
   "outputs": [
    {
     "name": "stderr",
     "output_type": "stream",
     "text": [
      "/var/folders/lb/nyps7wf17_767t6ln21znwmh0000gn/T/ipykernel_27152/914797327.py:1: RuntimeWarning: invalid value encountered in true_divide\n",
      "  np.divide(array8,array4)\n"
     ]
    },
    {
     "data": {
      "text/plain": [
       "array([[ 2., nan, nan],\n",
       "       [nan,  2., nan],\n",
       "       [nan, nan,  2.]])"
      ]
     },
     "execution_count": 28,
     "metadata": {},
     "output_type": "execute_result"
    }
   ],
   "source": [
    "np.divide(array8,array4)   #usamos el metodo de numpy para dividir array"
   ]
  }
 ],
 "metadata": {
  "kernelspec": {
   "display_name": "Python 3.9.7 ('base')",
   "language": "python",
   "name": "python3"
  },
  "language_info": {
   "codemirror_mode": {
    "name": "ipython",
    "version": 3
   },
   "file_extension": ".py",
   "mimetype": "text/x-python",
   "name": "python",
   "nbconvert_exporter": "python",
   "pygments_lexer": "ipython3",
   "version": "3.9.7"
  },
  "orig_nbformat": 4,
  "vscode": {
   "interpreter": {
    "hash": "3caf7024699363795119074055a58e45741f300ae36cbc0c7edc7c57844505fc"
   }
  }
 },
 "nbformat": 4,
 "nbformat_minor": 2
}
